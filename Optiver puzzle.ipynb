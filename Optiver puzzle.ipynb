{
 "cells": [
  {
   "cell_type": "markdown",
   "metadata": {},
   "source": [
    "# Summed up:"
   ]
  },
  {
   "cell_type": "markdown",
   "metadata": {},
   "source": [
    " #### ¤ If A chooses 0, B chooses 2/3\n",
    " #### ¤ If there are 3 players, optimal choice for A  is 1/4\n",
    " #### ¤ If there are 4 players, optimal choices for A  are 1/6 and 5/6"
   ]
  },
  {
   "cell_type": "markdown",
   "metadata": {},
   "source": [
    "# Preliminary functions"
   ]
  },
  {
   "cell_type": "code",
   "execution_count": 294,
   "metadata": {},
   "outputs": [],
   "source": [
    "def zone(_l, n):\n",
    "    \"\"\"simple function that for a list _l gives the zone taken by last element in position n\"\"\"\n",
    "    l = _l.copy()\n",
    "    l.sort()\n",
    "    pos = l.index(_l[n])\n",
    "    if pos == 0:\n",
    "        return l[0] + (l[1]-l[0])/2\n",
    "    elif pos == len(l)-1:\n",
    "        return (l[-1]-l[-2])/2 + (N - l[-1])\n",
    "    else:\n",
    "        return (l[pos+1] -  l[pos-1])/2\n",
    "        "
   ]
  },
  {
   "cell_type": "code",
   "execution_count": 296,
   "metadata": {},
   "outputs": [],
   "source": [
    "from statistics import mean\n",
    "\n",
    "def nested_average(l):\n",
    "    \"\"\"Since that at a given stage of the game, the next player might have many equally good position to play\n",
    "    We have to take the average of the zone we'll have\n",
    "    thinking that the next player is going to play one of his best positions\n",
    "    himself thinking that the next player is going to play one of his best positions\n",
    "    himself thinking that the next player is going to play one of his best positions \n",
    "    etc.\n",
    "    hence the recursive function\n",
    "    \"\"\"\n",
    "    if isinstance(l[0], float):\n",
    "        return mean(l)\n",
    "    else:\n",
    "        return mean([nested_average(sub_list) for sub_list in l])"
   ]
  },
  {
   "cell_type": "markdown",
   "metadata": {},
   "source": [
    "#  Calculating the results with 4 players"
   ]
  },
  {
   "cell_type": "code",
   "execution_count": 285,
   "metadata": {
    "scrolled": false
   },
   "outputs": [],
   "source": [
    "results = {}\n",
    "\n",
    "for N in range(10, 61): #looping for different discretization scales to go throught discretization effects\n",
    "\n",
    "    mat_pos_d = [[[[] for c in range(N+1)] for b in range(N+1)] for a in range(N+1)]\n",
    "    # we first gonna calculate mat_pos_d\n",
    "    # we have for example in case N=10 : mat_pos_d[0][1][10] = [2, 3, 4, 5, 6, 7, 8, 9] \n",
    "    # which is the list of the optimal choices for d given a=0, b=1, c=10\n",
    "\n",
    "    for a in range(N+1):\n",
    "        for b in range(N+1):\n",
    "            for c in range(N+1):\n",
    "                z_min = -1\n",
    "                pos_min = []\n",
    "                for d in range(N+1):\n",
    "                    if d not in [a, b, c]:\n",
    "                        z = zone([a,b,c,d], 3)\n",
    "                        if z > z_min:\n",
    "                            pos_min = [d]\n",
    "                            z_min = z                    \n",
    "                        elif z == z_min:\n",
    "                            pos_min.append(d)\n",
    "                mat_pos_d[a][b][c] = pos_min.copy()\n",
    "\n",
    "    mat_pos_c = [[[] for b in range(N+1)] for a in range(N+1)]\n",
    "    # now we have mat_pos_d which, we know where D is optimal for each (a,b,c)\n",
    "    # so we can calculate mat_pos_c for C\n",
    "\n",
    "    for a in range(N+1):\n",
    "        for b in range(N+1):\n",
    "            z_min = -1\n",
    "            pos_min = []\n",
    "            for c in range(N+1):\n",
    "                if c not in [a, b]:\n",
    "                    z = nested_average([zone([a,b,c,d], 2) for d in mat_pos_d[a][b][c]])\n",
    "                    if z > z_min:\n",
    "                        pos_min = [c]\n",
    "                        z_min = z                    \n",
    "                    elif z == z_min:\n",
    "                        pos_min.append(c)\n",
    "            mat_pos_c[a][b] = pos_min.copy()\n",
    "\n",
    "    mat_pos_b = [[] for a in range(N+1)] # same for B know that C and D is determined given (a, b)\n",
    "    \n",
    "    for a in range(N+1):\n",
    "        z_min = -1\n",
    "        pos_min = []\n",
    "        for b in range(N+1):\n",
    "            if b not in [a]:\n",
    "                z = nested_average([[zone([a,b,c,d], 1) for d in mat_pos_d[a][b][c]] for c in mat_pos_c[a][b]])\n",
    "                if z > z_min:\n",
    "                    pos_min = [b]\n",
    "                    z_min = z                    \n",
    "                elif z == z_min:\n",
    "                    pos_min.append(b)\n",
    "        mat_pos_b[a] = pos_min.copy()\n",
    "\n",
    "\n",
    "    z_min = -1\n",
    "    mat_pos_a = []\n",
    "    for a in range(N+1):\n",
    "        z = nested_average([[[zone([a,b,c,d], 0) for d in mat_pos_d[a][b][c]] for c in mat_pos_c[a][b]] for b in mat_pos_b[a]])\n",
    "        if z > z_min:\n",
    "            mat_pos_a = [a]\n",
    "            z_min = z                    \n",
    "        elif z == z_min:\n",
    "            mat_pos_a.append(a)\n",
    "    \n",
    "    results[N] = [pos/N for pos in mat_pos_a]"
   ]
  },
  {
   "cell_type": "markdown",
   "metadata": {},
   "source": [
    "## Let's plot the results"
   ]
  },
  {
   "cell_type": "code",
   "execution_count": 287,
   "metadata": {},
   "outputs": [
    {
     "data": {
      "image/png": "[encoded data removed]",
      "text/plain": [
       "<Figure size 432x288 with 1 Axes>"
      ]
     },
     "metadata": {
      "needs_background": "light"
     },
     "output_type": "display_data"
    }
   ],
   "source": [
    "import pandas as pd\n",
    "\n",
    "df = pd.DataFrame({'solution_1': [v[0] for v in results.values()], 'solution_2':[v[-1] for v in results.values()]}, index=results.keys())\n",
    "df.plot(linestyle='-', style='o');\n",
    "\n",
    "### we see that each sequence of 5 consecutive solution points around 0.1666 and 0.8333 flattens the more N is big"
   ]
  },
  {
   "cell_type": "markdown",
   "metadata": {},
   "source": [
    "# Conclusion"
   ]
  },
  {
   "cell_type": "markdown",
   "metadata": {},
   "source": [
    "This sequence of solution has 3 adherant points : 1.666··· = 1/6, obviously the symetric value = 5/6, and 1/2\n",
    "\n",
    " ¤ <b>1/2 is NOT really a solution :</b><br>\n",
    " \n",
    "We have for example if N=20:<br>\n",
    "<i>mat_pos_a = [10]<br>\n",
    "mat_pos_b[10] = [4, 16]<br>\n",
    "mat_pos_c[10][4] = [16]<br>\n",
    "mat_pos_d[10][4][16] = [3, 17]<br></i>\n",
    "\n",
    "Which corresponds to a game where A goes at the 1/2, B and D goes at 1/6 and 5/6<br>\n",
    "But in facts, this is only discretization effect that makes D goes either at 1/6 - ε or 5/6 + ε<br>\n",
    "Actually, if {a,b,c} = {1/6, 5/6, 1/2}, the optimal positions for D are {1/6 - ε} U ]1/6 ; 1/2[ U ]1/2 ; 5/6[ U {5/6 + ε}<br>\n",
    "Since μ({1/6 - ε}) = μ({5/6 + ε}) = 0 because they are discrete values, it's almost certain that D gonna be either in ]1/6 ; 1/2[ or ]1/2 ; 5/6[<br>\n",
    "\n",
    " ¤ <b>In conclusion, the optimal game given the rules is :</b><br>\n",
    "        A goes at 1/6 (or 5/6)<br>\n",
    "        B goes at 5/6 (or 1/6 if A goes at 5/6)<br>\n",
    "        C goes at 1/2<br>\n",
    "        D goes anywhere between A & B<br>"
   ]
  },
  {
   "cell_type": "markdown",
   "metadata": {},
   "source": [
    "# Lookback at the first question"
   ]
  },
  {
   "cell_type": "code",
   "execution_count": 306,
   "metadata": {},
   "outputs": [
    {
     "name": "stdout",
     "output_type": "stream",
     "text": [
      "With 3 players, if A=0, then B has to pick 0.67\n"
     ]
    }
   ],
   "source": [
    "N = 100\n",
    "\n",
    "mat_pos_c = [[[] for b in range(N+1)] for a in range(N+1)]\n",
    "# now we have mat_pos_d which, we know where D is optimal for each (a,b,c)\n",
    "# so we can calculate mat_pos_c for C\n",
    "\n",
    "for a in range(N+1):\n",
    "    for b in range(N+1):\n",
    "        z_min = -1\n",
    "        pos_min = []\n",
    "        for c in range(N+1):\n",
    "            if c not in [a, b]:\n",
    "                z = zone([a,b,c], 2)\n",
    "                if z > z_min:\n",
    "                    pos_min = [c]\n",
    "                    z_min = z                    \n",
    "                elif z == z_min:\n",
    "                    pos_min.append(c)\n",
    "        mat_pos_c[a][b] = pos_min.copy()\n",
    "\n",
    "mat_pos_b = [[] for a in range(N+1)] # same for B know that C and D is determined given (a, b)\n",
    "\n",
    "for a in range(N+1):\n",
    "    z_min = -1\n",
    "    pos_min = []\n",
    "    for b in range(N+1):\n",
    "        if b not in [a]:\n",
    "            z = nested_average([zone([a,b,c], 1)  for c in mat_pos_c[a][b]])\n",
    "            if z > z_min:\n",
    "                pos_min = [b]\n",
    "                z_min = z                    \n",
    "            elif z == z_min:\n",
    "                pos_min.append(b)\n",
    "    mat_pos_b[a] = pos_min.copy()\n",
    "\n",
    "print(\"With 3 players, if A=0, then B has to pick {}\".format(mat_pos_b[0][0]/N))"
   ]
  },
  {
   "cell_type": "markdown",
   "metadata": {},
   "source": [
    "# Lookback at the second question"
   ]
  },
  {
   "cell_type": "code",
   "execution_count": 309,
   "metadata": {},
   "outputs": [
    {
     "name": "stdout",
     "output_type": "stream",
     "text": [
      "With 3 players, A has to pick 0.25\n"
     ]
    }
   ],
   "source": [
    "N = 100\n",
    "\n",
    "mat_pos_c = [[[] for b in range(N+1)] for a in range(N+1)]\n",
    "# now we have mat_pos_d which, we know where D is optimal for each (a,b,c)\n",
    "# so we can calculate mat_pos_c for C\n",
    "\n",
    "for a in range(N+1):\n",
    "    for b in range(N+1):\n",
    "        z_min = -1\n",
    "        pos_min = []\n",
    "        for c in range(N+1):\n",
    "            if c not in [a, b]:\n",
    "                z = zone([a,b,c], 2)\n",
    "                if z > z_min:\n",
    "                    pos_min = [c]\n",
    "                    z_min = z                    \n",
    "                elif z == z_min:\n",
    "                    pos_min.append(c)\n",
    "        mat_pos_c[a][b] = pos_min.copy()\n",
    "\n",
    "mat_pos_b = [[] for a in range(N+1)] # same for B know that C and D is determined given (a, b)\n",
    "\n",
    "for a in range(N+1):\n",
    "    z_min = -1\n",
    "    pos_min = []\n",
    "    for b in range(N+1):\n",
    "        if b not in [a]:\n",
    "            z = nested_average([zone([a,b,c], 1)  for c in mat_pos_c[a][b]])\n",
    "            if z > z_min:\n",
    "                pos_min = [b]\n",
    "                z_min = z                    \n",
    "            elif z == z_min:\n",
    "                pos_min.append(b)\n",
    "    mat_pos_b[a] = pos_min.copy()\n",
    "    \n",
    "\n",
    "z_min = -1\n",
    "mat_pos_a = []\n",
    "for a in range(N+1):\n",
    "    z = nested_average([[zone([a,b,c], 0) for c in mat_pos_c[a][b]] for b in mat_pos_b[a]])\n",
    "    if z > z_min:\n",
    "        mat_pos_a = [a]\n",
    "        z_min = z                    \n",
    "    elif z == z_min:\n",
    "        mat_pos_a.append(a)\n",
    "    \n",
    "\n",
    "print(\"With 3 players, A has to pick {}\".format(mat_pos_a[0]/N, mat_pos_a[1]/N))"
   ]
  }
 ],
 "metadata": {
  "kernelspec": {
   "display_name": "Python 3",
   "language": "python",
   "name": "python3"
  },
  "language_info": {
   "codemirror_mode": {
    "name": "ipython",
    "version": 3
   },
   "file_extension": ".py",
   "mimetype": "text/x-python",
   "name": "python",
   "nbconvert_exporter": "python",
   "pygments_lexer": "ipython3",
   "version": "3.7.3"
  }
 },
 "nbformat": 4,
 "nbformat_minor": 2
}
